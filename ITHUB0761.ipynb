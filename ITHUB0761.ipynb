{
  "nbformat": 4,
  "nbformat_minor": 0,
  "metadata": {
    "colab": {
      "provenance": [],
      "authorship_tag": "ABX9TyOSLhzhNMR5hFVys6v/W+IE",
      "include_colab_link": true
    },
    "kernelspec": {
      "name": "python3",
      "display_name": "Python 3"
    },
    "language_info": {
      "name": "python"
    }
  },
  "cells": [
    {
      "cell_type": "markdown",
      "metadata": {
        "id": "view-in-github",
        "colab_type": "text"
      },
      "source": [
        "<a href=\"https://colab.research.google.com/github/Devenderalla/PYTHON-NEW/blob/main/ITHUB0761.ipynb\" target=\"_parent\"><img src=\"https://colab.research.google.com/assets/colab-badge.svg\" alt=\"Open In Colab\"/></a>"
      ]
    },
    {
      "cell_type": "markdown",
      "source": [
        "###1. bring all values into a list 'a', (and print it)\n"
      ],
      "metadata": {
        "id": "PqTcCjeImSBf"
      }
    },
    {
      "cell_type": "code",
      "source": [
        "import math\n",
        "dict={'id.no':[23,45,57], 'age':[17,18,19],'height':[170,180,190]} \n",
        "a=[i for i in dict.values()]\n",
        "print(a)\n",
        "\n"
      ],
      "metadata": {
        "colab": {
          "base_uri": "https://localhost:8080/"
        },
        "id": "_BOv3s5tmfNM",
        "outputId": "01f0c28a-0213-44c1-9e33-d0b106fec52b"
      },
      "execution_count": 3,
      "outputs": [
        {
          "output_type": "stream",
          "name": "stdout",
          "text": [
            "[[23, 45, 57], [17, 18, 19], [170, 180, 190]]\n"
          ]
        }
      ]
    },
    {
      "cell_type": "markdown",
      "source": [
        "###2.using any of the predefined functions, create a new list 'b; with squares of each element in 'a' "
      ],
      "metadata": {
        "id": "dC8IhEJ_l3i7"
      }
    },
    {
      "cell_type": "code",
      "execution_count": 1,
      "metadata": {
        "colab": {
          "base_uri": "https://localhost:8080/"
        },
        "id": "c8j7u6qTluQQ",
        "outputId": "aae591e7-428d-404e-c5ff-9cb0ecbb7741"
      },
      "outputs": [
        {
          "output_type": "stream",
          "name": "stdout",
          "text": [
            "[529, 2025, 3249, 289, 324, 361, 28900, 32400, 36100]\n"
          ]
        }
      ],
      "source": [
        "\n",
        "import math\n",
        "a=[23,45,57,17,18,19,170,180,190]\n",
        "b=[]\n",
        "for i in range(0,len(a)):\n",
        "    c=int(math.pow(a[i],2))\n",
        "    b.append(c)\n",
        "print(b)\n"
      ]
    },
    {
      "cell_type": "markdown",
      "source": [
        "###3. using functions, return the sum of all the elements in a  and  then in b\n"
      ],
      "metadata": {
        "id": "2S4isCNTmAph"
      }
    },
    {
      "cell_type": "code",
      "source": [
        "def sum(a):\n",
        "    total=0\n",
        "    for i in range(0,len(a)):\n",
        "        total = total + a[i]\n",
        "    print(total)\n",
        "sum(a)\n",
        "\n",
        "def sum(b):\n",
        "    sum=0 \n",
        "    for i in range(0,len(b)):\n",
        "        sum=sum + b[i]\n",
        "    print(sum)\n",
        "sum(b)"
      ],
      "metadata": {
        "colab": {
          "base_uri": "https://localhost:8080/"
        },
        "id": "Lxuq0WH6mMB9",
        "outputId": "7fbc4e4d-ec4c-4e99-ea3f-ea96d527a086"
      },
      "execution_count": 2,
      "outputs": [
        {
          "output_type": "stream",
          "name": "stdout",
          "text": [
            "719\n",
            "104177\n"
          ]
        }
      ]
    }
  ]
}